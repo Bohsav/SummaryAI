{
 "cells": [
  {
   "cell_type": "code",
   "id": "initial_id",
   "metadata": {
    "collapsed": true,
    "ExecuteTime": {
     "end_time": "2024-07-22T22:20:18.519356Z",
     "start_time": "2024-07-22T22:20:12.576170Z"
    }
   },
   "source": [
    "import pandas as pd\n",
    "from keybert import KeyBERT\n",
    "import os\n",
    "from proj import dataloader\n",
    "\n",
    "def csv_format_script(kw_lists):\n",
    "    output_list = []\n",
    "    for kw_list in kw_lists:\n",
    "        probs = []\n",
    "        words = []\n",
    "        for kw_pair in kw_list:\n",
    "            probs.append(kw_pair[1])\n",
    "            words.append(kw_pair[0])\n",
    "        \n",
    "        words.extend(probs)\n",
    "        output_list.append(words)\n",
    "    return output_list\n",
    "    \n",
    "\n",
    "def add_titles(kw_lists, titles_list):\n",
    "    output_list = []\n",
    "    \n",
    "    for kw_list, title in zip(kw_lists, titles_list):\n",
    "        kw_list.insert(0, title)\n",
    "        output_list.append(kw_list)\n",
    "        \n",
    "    return output_list\n",
    "\n",
    "\n",
    "def converter_to_ps_script(kw_lists, titles_list):\n",
    "    max_length = len(kw_lists[0])\n",
    "    columns = [\"title\"]\n",
    "    columns.extend(f\"keyword{i}\" for i in range(max_length))\n",
    "    columns.extend(f\"kw_prob{i}\" for i in range(max_length))\n",
    "    return pd.DataFrame(add_titles(csv_format_script(kw_lists), titles_list), columns=columns)\n",
    "\n",
    "def merge_columns(df1, df2, on, common_columns):\n",
    "    def combine(x):\n",
    "        result = [*set(x.tolist())]\n",
    "        result.extend([None for _ in range(\n",
    "            len(x.tolist())-(len(result))\n",
    "        )])\n",
    "        return result\n",
    "    \n",
    "    merge_ex = pd.merge(df1, df2, \"outer\", on=on)\n",
    "    common_columns = [\"{}_x\".format(column) for column in common_columns] + [\"{}_y\".format(column) for column in common_columns]\n",
    "    merge_ex[common_columns] = merge_ex[common_columns].apply(combine, axis=1, result_type=\"expand\")\n",
    "    return merge_ex\n",
    "\n",
    "dataset = dataloader.load_billsum(\n",
    "    \"local_datasets\"\n",
    ")"
   ],
   "outputs": [
    {
     "name": "stderr",
     "output_type": "stream",
     "text": [
      "/home/sleepyfox/miniconda3/envs/SummaryAI/lib/python3.11/site-packages/sentence_transformers/cross_encoder/CrossEncoder.py:11: TqdmExperimentalWarning: Using `tqdm.autonotebook.tqdm` in notebook mode. Use `tqdm.tqdm` instead to force console mode (e.g. in jupyter console)\n",
      "  from tqdm.autonotebook import tqdm, trange\n"
     ]
    }
   ],
   "execution_count": 1
  },
  {
   "metadata": {},
   "cell_type": "markdown",
   "source": "# Cell below is to generate keywords from the dataset",
   "id": "e6d45131c835a0c7"
  },
  {
   "metadata": {
    "ExecuteTime": {
     "end_time": "2024-07-10T01:51:25.106965Z",
     "start_time": "2024-07-10T01:51:24.831897Z"
    }
   },
   "cell_type": "code",
   "source": [
    "keybert_ext = KeyBERT()\n",
    "\n",
    "kw = {\n",
    "    \"train\": {},\n",
    "    \"test\": {}\n",
    "}\n",
    "\n",
    "kw[\"train\"][\"text\"] = keybert_ext.extract_keywords([*map(lambda s: s.lower(), dataset[\"train\"][\"text\"])])\n",
    "kw[\"train\"][\"summary\"] = keybert_ext.extract_keywords([*map(lambda s: s.lower(), dataset[\"train\"][\"summary\"])])\n",
    "kw[\"test\"][\"text\"] = keybert_ext.extract_keywords([*map(lambda s: s.lower(), dataset[\"test\"][\"text\"])])\n",
    "kw[\"test\"][\"summary\"] = keybert_ext.extract_keywords([*map(lambda s: s.lower(), dataset[\"test\"][\"summary\"])])\n",
    "\n",
    "kw[\"train\"][\"text\"] = converter_to_ps_script(kw[\"train\"][\"text\"], dataset[\"train\"][\"title\"])\n",
    "kw[\"train\"][\"summary\"] = converter_to_ps_script(kw[\"train\"][\"summary\"], dataset[\"train\"][\"title\"])\n",
    "kw[\"test\"][\"text\"] = converter_to_ps_script(kw[\"test\"][\"text\"], dataset[\"test\"][\"title\"])\n",
    "kw[\"test\"][\"summary\"] = converter_to_ps_script(kw[\"test\"][\"summary\"], dataset[\"test\"][\"title\"])"
   ],
   "id": "77db03bb8d7063cf",
   "outputs": [],
   "execution_count": 17
  },
  {
   "metadata": {},
   "cell_type": "markdown",
   "source": "# Cell below is to load the keywords",
   "id": "ce83d0cae94ba84d"
  },
  {
   "metadata": {
    "ExecuteTime": {
     "end_time": "2024-07-22T22:23:11.068717Z",
     "start_time": "2024-07-22T22:23:10.948042Z"
    }
   },
   "cell_type": "code",
   "source": [
    "kw = {\n",
    "    \"train\": {},\n",
    "    \"test\": {}\n",
    "}\n",
    "\n",
    "kw[\"train\"][\"text\"] = pd.read_csv(\"./.temp/keywords/billsum/train_text_kw.csv\")\n",
    "kw[\"train\"][\"summary\"] = pd.read_csv(\"./.temp/keywords/billsum/train_sum_kw.csv\")\n",
    "kw[\"test\"][\"text\"] = pd.read_csv(\"./.temp/keywords/billsum/test_text_kw.csv\")\n",
    "kw[\"test\"][\"summary\"] = pd.read_csv(\"./.temp/keywords/billsum/test_sum_kw.csv\")"
   ],
   "id": "d476b5b35499b984",
   "outputs": [],
   "execution_count": 3
  },
  {
   "metadata": {},
   "cell_type": "markdown",
   "source": [
    "# Drop the names and merge columns to generate a union of keywords\n",
    "Length is variable"
   ],
   "id": "201c0e0752ad9dab"
  },
  {
   "metadata": {
    "ExecuteTime": {
     "end_time": "2024-07-22T22:23:15.043023Z",
     "start_time": "2024-07-22T22:23:14.248721Z"
    }
   },
   "cell_type": "code",
   "source": [
    "def name_generator():\n",
    "    return [\"kw_prob{}\".format(i) for i in range(0, 5)]\n",
    "\n",
    "kw[\"train\"][\"text\"] = kw[\"train\"][\"text\"].drop(name_generator(), axis=1)\n",
    "kw[\"train\"][\"summary\"] = kw[\"train\"][\"summary\"].drop(name_generator(), axis=1)\n",
    "kw[\"test\"][\"text\"] = kw[\"test\"][\"text\"].drop(name_generator(), axis=1)\n",
    "kw[\"test\"][\"summary\"] = kw[\"test\"][\"summary\"].drop(name_generator(), axis=1)\n",
    "\n",
    "merged_kw = {}\n",
    "\n",
    "merged_kw[\"test\"] = merge_columns(kw[\"test\"][\"summary\"], kw[\"test\"][\"text\"], \"title\", [\"keyword{}\".format(i) for i in range(0, 5)])\n",
    "merged_kw[\"train\"] = merge_columns(kw[\"train\"][\"summary\"], kw[\"train\"][\"text\"], \"title\", [\"keyword{}\".format(i) for i in range(0, 5)])"
   ],
   "id": "1c05f3ae7c6ce279",
   "outputs": [],
   "execution_count": 4
  },
  {
   "metadata": {},
   "cell_type": "markdown",
   "source": "# Save the keywords alongside the original keywords",
   "id": "bb1f7c0b57eeb0d7"
  },
  {
   "metadata": {
    "ExecuteTime": {
     "end_time": "2024-07-22T22:24:19.315062Z",
     "start_time": "2024-07-22T22:24:19.041317Z"
    }
   },
   "cell_type": "code",
   "source": [
    "# Save the merged keywords exclusively\n",
    "\n",
    "os.makedirs(\".temp/\", exist_ok=True)\n",
    "os.makedirs(\".temp/keywords/\", exist_ok=True)\n",
    "\n",
    "os.makedirs(\".temp/keywords/billsum/\", exist_ok=True)\n",
    "\n",
    "kw[\"train\"][\"text\"].to_csv(\".temp/keywords/billsum/train_sum_kw.csv\", index=False)\n",
    "kw[\"train\"][\"summary\"].to_csv(\".temp/keywords/billsum/train_text_kw.csv\", index=False)\n",
    "kw[\"test\"][\"text\"].to_csv(\".temp/keywords/billsum/test_text_kw.csv\", index=False)\n",
    "kw[\"test\"][\"summary\"].to_csv(\".temp/keywords/billsum/test_sum_kw.csv\", index=False)\n",
    "\n",
    "merged_kw[\"test\"].to_csv(\".temp/keywords/billsum/test_merged_kw.csv\", index=False)\n",
    "merged_kw[\"train\"].to_csv(\".temp/keywords/billsum/train_merged_kw.csv\", index=False)"
   ],
   "id": "91396eec150bbaf8",
   "outputs": [],
   "execution_count": 6
  }
 ],
 "metadata": {
  "kernelspec": {
   "display_name": "Python 3",
   "language": "python",
   "name": "python3"
  },
  "language_info": {
   "codemirror_mode": {
    "name": "ipython",
    "version": 2
   },
   "file_extension": ".py",
   "mimetype": "text/x-python",
   "name": "python",
   "nbconvert_exporter": "python",
   "pygments_lexer": "ipython2",
   "version": "2.7.6"
  }
 },
 "nbformat": 4,
 "nbformat_minor": 5
}
