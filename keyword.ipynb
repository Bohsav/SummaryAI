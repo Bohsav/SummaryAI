{
 "cells": [
  {
   "cell_type": "code",
   "id": "initial_id",
   "metadata": {
    "collapsed": true,
    "ExecuteTime": {
     "end_time": "2024-07-09T23:12:56.173866Z",
     "start_time": "2024-07-09T23:12:55.602471Z"
    }
   },
   "source": [
    "from keybert import KeyBERT\n",
    "\n",
    "keybert_ext = KeyBERT()"
   ],
   "outputs": [],
   "execution_count": 3
  },
  {
   "metadata": {
    "ExecuteTime": {
     "end_time": "2024-07-09T23:09:44.671562Z",
     "start_time": "2024-07-09T23:09:41.493507Z"
    }
   },
   "cell_type": "code",
   "source": [
    "from proj import dataloader\n",
    "\n",
    "dataset = dataloader.load_billsum(\n",
    "    \"local_datasets\"\n",
    ")"
   ],
   "id": "d49bafeedd1be087",
   "outputs": [],
   "execution_count": 2
  },
  {
   "metadata": {},
   "cell_type": "code",
   "source": [
    "dataset_train = dataset[\"train\"]\n",
    "dataset_test = dataset[\"test\"]"
   ],
   "id": "3cc4655a03258064",
   "outputs": [],
   "execution_count": null
  },
  {
   "metadata": {
    "ExecuteTime": {
     "end_time": "2024-07-09T23:28:40.303677Z",
     "start_time": "2024-07-09T23:25:53.793133Z"
    }
   },
   "cell_type": "code",
   "source": [
    "train_text_kw = keybert_ext.extract_keywords([*map(lambda s: s.lower(), dataset_train[\"text\"])])\n",
    "train_sum_kw = keybert_ext.extract_keywords([*map(lambda s: s.lower(), dataset_train[\"summary\"])])\n",
    "\n",
    "test_text_kw = keybert_ext.extract_keywords([*map(lambda s: s.lower(), dataset_test[\"text\"])])\n",
    "test_sum_kw = keybert_ext.extract_keywords([*map(lambda s: s.lower(), dataset_test[\"summary\"])])"
   ],
   "id": "2ed69edcdc070e90",
   "outputs": [],
   "execution_count": 7
  },
  {
   "metadata": {
    "ExecuteTime": {
     "end_time": "2024-07-10T01:51:25.106965Z",
     "start_time": "2024-07-10T01:51:24.831897Z"
    }
   },
   "cell_type": "code",
   "source": [
    "import pandas as ps\n",
    "\n",
    "def csv_format_script(kw_lists):\n",
    "    output_list = []\n",
    "    for kw_list in kw_lists:\n",
    "        probs = []\n",
    "        words = []\n",
    "        for kw_pair in kw_list:\n",
    "            probs.append(kw_pair[1])\n",
    "            words.append(kw_pair[0])\n",
    "        \n",
    "        words.extend(probs)\n",
    "        output_list.append(words)\n",
    "    return output_list\n",
    "    \n",
    "\n",
    "def add_titles(kw_lists, titles_list):\n",
    "    output_list = []\n",
    "    \n",
    "    for kw_list, title in zip(kw_lists, titles_list):\n",
    "        kw_list.insert(0, title)\n",
    "        output_list.append(kw_list)\n",
    "        \n",
    "    return output_list\n",
    "\n",
    "\n",
    "def converter_to_ps_script(kw_lists, titles_list):\n",
    "    max_length = len(kw_lists[0])\n",
    "    columns = [\"title\"]\n",
    "    columns.extend(f\"keyword{i}\" for i in range(max_length))\n",
    "    columns.extend(f\"kw_prob{i}\" for i in range(max_length))\n",
    "    return ps.DataFrame(add_titles(csv_format_script(kw_lists), titles_list), columns=columns)\n",
    "    \n",
    "\n",
    "train_text_kw_ps = converter_to_ps_script(train_text_kw, dataset_train[\"title\"])\n",
    "train_sum_kw_ps = converter_to_ps_script(train_sum_kw, dataset_train[\"title\"])\n",
    "\n",
    "test_text_kw_ps = converter_to_ps_script(test_text_kw, dataset_test[\"title\"])\n",
    "test_sum_kw_ps = converter_to_ps_script(test_sum_kw, dataset_test[\"title\"])"
   ],
   "id": "77db03bb8d7063cf",
   "outputs": [],
   "execution_count": 17
  },
  {
   "metadata": {
    "ExecuteTime": {
     "end_time": "2024-07-10T01:53:52.597433Z",
     "start_time": "2024-07-10T01:53:52.313382Z"
    }
   },
   "cell_type": "code",
   "source": [
    "# Collect the data\n",
    "import os\n",
    "import csv\n",
    "\n",
    "os.mkdir(\".temp/\")\n",
    "os.mkdir(\".temp/keywords/\")\n",
    "\n",
    "os.mkdir(\".temp/keywords/billsum/\")\n",
    "\n",
    "train_sum_kw_ps.to_csv(\".temp/keywords/billsum/train_sum_kw.csv\", index=False)\n",
    "train_text_kw_ps.to_csv(\".temp/keywords/billsum/train_text_kw.csv\", index=False)\n",
    "test_text_kw_ps.to_csv(\".temp/keywords/billsum/test_text_kw.csv\", index=False)\n",
    "test_sum_kw_ps.to_csv(\".temp/keywords/billsum/test_sum_kw.csv\", index=False)"
   ],
   "id": "91396eec150bbaf8",
   "outputs": [],
   "execution_count": 18
  }
 ],
 "metadata": {
  "kernelspec": {
   "display_name": "Python 3",
   "language": "python",
   "name": "python3"
  },
  "language_info": {
   "codemirror_mode": {
    "name": "ipython",
    "version": 2
   },
   "file_extension": ".py",
   "mimetype": "text/x-python",
   "name": "python",
   "nbconvert_exporter": "python",
   "pygments_lexer": "ipython2",
   "version": "2.7.6"
  }
 },
 "nbformat": 4,
 "nbformat_minor": 5
}
