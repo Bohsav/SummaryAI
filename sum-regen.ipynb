{
 "cells": [
  {
   "cell_type": "code",
   "execution_count": 1,
   "id": "initial_id",
   "metadata": {
    "ExecuteTime": {
     "end_time": "2024-07-31T21:20:52.337303Z",
     "start_time": "2024-07-31T21:20:51.597999Z"
    },
    "editable": true,
    "slideshow": {
     "slide_type": ""
    },
    "tags": []
   },
   "outputs": [],
   "source": [
    "from transformers import AutoTokenizer, AutoModelForCausalLM\n",
    "import torch"
   ]
  },
  {
   "cell_type": "code",
   "execution_count": 16,
   "id": "252732f587d9e6f7",
   "metadata": {
    "ExecuteTime": {
     "end_time": "2024-07-31T22:21:44.899949Z",
     "start_time": "2024-07-31T22:21:41.540498Z"
    }
   },
   "outputs": [
    {
     "data": {
      "application/vnd.jupyter.widget-view+json": {
       "model_id": "62f6b462d13c49d4bccec2f3f1b6aae4",
       "version_major": 2,
       "version_minor": 0
      },
      "text/plain": [
       "Loading checkpoint shards:   0%|          | 0/4 [00:00<?, ?it/s]"
      ]
     },
     "metadata": {},
     "output_type": "display_data"
    }
   ],
   "source": [
    "with open(\"api-token\") as f:\n",
    "    api_token = f.read().strip()\n",
    "\n",
    "model_device = \"cuda\"\n",
    "tokenizer_device = \"cpu\"\n",
    "model_id = \"meta-llama/Meta-Llama-3.1-8B-Instruct\"\n",
    "\n",
    "model = AutoModelForCausalLM.from_pretrained(model_id, torch_dtype=torch.float16)\n",
    "model.to(model_device)\n",
    "\n",
    "tokenizer = AutoTokenizer.from_pretrained(model_id)\n",
    "\n",
    "model.generation_config.max_length = 4096"
   ]
  },
  {
   "cell_type": "code",
   "execution_count": 9,
   "id": "b6316ac01961cb34",
   "metadata": {
    "ExecuteTime": {
     "end_time": "2024-07-31T22:07:20.492111Z",
     "start_time": "2024-07-31T22:07:17.977900Z"
    }
   },
   "outputs": [],
   "source": [
    "from proj import dataloader\n",
    "import pandas as pd\n",
    "\n",
    "dataset = dataloader.load_billsum(\n",
    "    \"local_datasets\"\n",
    ")\n",
    "\n",
    "merged_kw = {\"test\": pd.read_csv(\".temp/keywords/billsum/test_merged_kw.csv\"),\n",
    "             \"train\": pd.read_csv(\".temp/keywords/billsum/train_merged_kw.csv\")\n",
    "             }\n"
   ]
  },
  {
   "cell_type": "code",
   "execution_count": 25,
   "id": "dd241b8c",
   "metadata": {
    "ExecuteTime": {
     "end_time": "2024-07-31T22:38:28.495913Z",
     "start_time": "2024-07-31T22:38:28.485318Z"
    }
   },
   "outputs": [],
   "source": [
    "message = (\"<|begin_of_text|><|start_header_id|>system<|end_header_id|>\"\n",
    "           \"Cutting Knowledge Date: December 2023\\n\"\n",
    "           \"Today Date: 31 Jul 2024\\n\"\n",
    "           \"You modify given summary using context from the text to contain information related to keywords from a given comma-separated list of keywords\\n\"\n",
    "           \"<|eot_id|><|start_header_id|>user<|end_header_id|>\"\n",
    "           \"text: \" + dataset[\"test\"][\"text\"][0] + \"\\n\"\n",
    "           \"summary: \" + dataset[\"test\"][\"summary\"][0] + \"\\n\"\n",
    "           \"comma-separated list of keywords: monetary\"\n",
    "           \"<|eot_id|>\"\n",
    "           \"<|start_header_id|>assistant<|end_header_id|>\")"
   ]
  },
  {
   "cell_type": "code",
   "execution_count": 26,
   "id": "a717acc3-182d-477a-ba90-e816a85f15b6",
   "metadata": {
    "ExecuteTime": {
     "end_time": "2024-07-31T22:38:41.664840Z",
     "start_time": "2024-07-31T22:38:33.056860Z"
    }
   },
   "outputs": [
    {
     "name": "stderr",
     "output_type": "stream",
     "text": [
      "Setting `pad_token_id` to `eos_token_id`:128001 for open-end generation.\n"
     ]
    },
    {
     "name": "stdout",
     "output_type": "stream",
     "text": [
      "<|begin_of_text|><|begin_of_text|><|start_header_id|>system<|end_header_id|>Cutting Knowledge Date: December 2023\n",
      "Today Date: 31 Jul 2024\n",
      "You modify given summary using context from the text to contain information related to keywords from a given comma-separated list of keywords\n",
      "<|eot_id|><|start_header_id|>user<|end_header_id|>text: SECTION 1. ENVIRONMENTAL INFRASTRUCTURE.\n",
      "\n",
      "    (a) Jackson County, Mississippi.--Section 219 of the Water \n",
      "Resources Development Act of 1992 (106 Stat. 4835; 110 Stat. 3757) is \n",
      "amended--\n",
      "        (1) in subsection (c), by striking paragraph (5) and inserting \n",
      "    the following:\n",
      "        ``(5) Jackson county, mississippi.--Provision of an alternative \n",
      "    water supply and a project for the elimination or control of \n",
      "    combined sewer overflows for Jackson County, Mississippi.''; and\n",
      "        (2) in subsection (e)(1), by striking ``$10,000,000'' and \n",
      "    inserting ``$20,000,000''.\n",
      "    (b) Manchester, New Hampshire.--Section 219(e)(3) of the Water \n",
      "Resources Development Act of 1992 (106 Stat. 4835; 110 Stat. 3757) is \n",
      "amended by striking ``$10,000,000'' and inserting ``$20,000,000''.\n",
      "    (c) Atlanta, Georgia.--Section 219(f)(1) of the Water Resources \n",
      "Development Act of 1992 (106 Stat. 4835; 113 Stat. 335) is amended by \n",
      "striking ``$25,000,000 for''.\n",
      "    (d) Paterson, Passaic County, and Passaic Valley, New Jersey.--\n",
      "Section 219(f)(2) of the Water Resources Development Act of 1992 (106 \n",
      "Stat. 4835; 113 Stat. 335) is amended by striking ``$20,000,000 for''.\n",
      "    (e) Elizabeth and North Hudson, New Jersey.--Section 219(f) of the \n",
      "Water Resources Development Act of 1992 (106 Stat. 4835; 113 Stat. 335) \n",
      "is amended--\n",
      "        (1) in paragraph (33), by striking ``$20,000,000'' and \n",
      "    inserting ``$10,000,000''; and\n",
      "        (2) in paragraph (34)--\n",
      "            (A) by striking ``$10,000,000'' and inserting \n",
      "        ``$20,000,000''; and\n",
      "            (B) by striking ``in the city of North Hudson'' and \n",
      "        inserting ``for the North Hudson Sewerage Authority''.\n",
      "\n",
      "SEC. 2. UPPER MISSISSIPPI RIVER ENVIRONMENTAL MANAGEMENT PROGRAM.\n",
      "\n",
      "    Section 1103(e)(5) of the Water Resources Development Act of 1986 \n",
      "(33 U.S.C. 652(e)(5)) (as amended by section 509(c)(3) of the Water \n",
      "Resources Development Act of 1999 (113 Stat. 340)) is amended by \n",
      "striking ``paragraph (1)(A)(i)'' and inserting ``paragraph (1)(B)''.\n",
      "\n",
      "SEC. 3. DELAWARE RIVER, PENNSYLVANIA AND DELAWARE.\n",
      "\n",
      "    Section 346 of the Water Resources Development Act of 1999 (113 \n",
      "Stat. 309) is amended by striking ``economically acceptable'' and \n",
      "inserting ``environmentally acceptable''.\n",
      "\n",
      "SEC. 4. PROJECT REAUTHORIZATIONS.\n",
      "\n",
      "    Section 364 of the Water Resources Development Act of 1999 (113 \n",
      "Stat. 313) is amended--\n",
      "        (1) by striking ``Each'' and all that follows through the colon \n",
      "    and inserting the following: ``Each of the following projects is \n",
      "    authorized to be carried out by the Secretary, and no construction \n",
      "    on any such project may be initiated until the Secretary determines \n",
      "    that the project is technically sound, environmentally acceptable, \n",
      "    and economically justified:'';\n",
      "        (2) by striking paragraph (1); and\n",
      "        (3) by redesignating paragraphs (2) through (6) as paragraphs \n",
      "    (1) through (5), respectively.\n",
      "\n",
      "SEC. 5. SHORE PROTECTION.\n",
      "\n",
      "    Section 103(d)(2)(A) of the Water Resources Development Act of 1986 \n",
      "(33 U.S.C. 2213(d)(2)(A)) (as amended by section 215(a)(2) of the Water \n",
      "Resources Development Act of 1999 (113 Stat. 292)) is amended by \n",
      "striking ``or for which a feasibility study is completed after that \n",
      "date,'' and inserting ``except for a project for which a District \n",
      "Engineer's Report is completed by that date,''.\n",
      "\n",
      "SEC. 6. COMITE RIVER, LOUISIANA.\n",
      "\n",
      "    Section 371 of the Water Resources Development Act of 1999 (113 \n",
      "Stat. 321) is amended--\n",
      "        (1) by inserting ``(a) In General.--'' before ``The''; and\n",
      "        (2) by adding at the end the following:\n",
      "    ``(b) Crediting of Reduction in Non-Federal Share.--The project \n",
      "cooperation agreement for the Comite River Diversion Project shall \n",
      "include a provision that specifies that any reduction in the non-\n",
      "Federal share that results from the modification under subsection (a) \n",
      "shall be credited toward the share of project costs to be paid by the \n",
      "Amite River Basin Drainage and Water Conservation District.''.\n",
      "\n",
      "SEC. 7. CHESAPEAKE CITY, MARYLAND.\n",
      "\n",
      "    Section 535(b) of the Water Resources Development Act of 1999 (113 \n",
      "Stat. 349) is amended by striking ``the city of Chesapeake'' each place \n",
      "it appears and inserting ``Chesapeake City''.\n",
      "\n",
      "SEC. 8. CONTINUATION OF SUBMISSION OF CERTAIN REPORTS BY THE SECRETARY \n",
      "              OF THE ARMY.\n",
      "\n",
      "    (a) Recommendations of Inland Waterways Users Board.--Section \n",
      "302(b) of the Water Resources Development Act of 1986 (33 U.S.C. \n",
      "2251(b)) is amended in the last sentence by striking ``The'' and \n",
      "inserting ``Notwithstanding section 3003 of Public Law 104-66 (31 \n",
      "U.S.C. 1113 note; 109 Stat. 734), the''.\n",
      "    (b) List of Authorized but Unfunded Studies.--Section 710(a) of the \n",
      "Water Resources Development Act of 1986 (33 U.S.C. 2264(a)) is amended \n",
      "in the first sentence by striking ``Not'' and inserting \n",
      "``Notwithstanding section 3003 of Public Law 104-66 (31 U.S.C. 1113 \n",
      "note; 109 Stat. 734), not''.\n",
      "    (c) Reports on Participation of Minority Groups and Minority-Owned \n",
      "Firms in Mississippi River-Gulf Outlet Feature.--Section 844(b) of the \n",
      "Water Resources Development Act of 1986 (100 Stat. 4177) is amended in \n",
      "the second sentence by striking ``The'' and inserting ``Notwithstanding \n",
      "section 3003 of Public Law 104-66 (31 U.S.C. 1113 note; 109 Stat. 734), \n",
      "the''.\n",
      "    (d) List of Authorized but Unfunded Projects.--Section 1001(b)(2) \n",
      "of the Water Resources Development Act of 1986 (33 U.S.C. 579a(b)(2)) \n",
      "is amended in the first sentence by striking ``Every'' and inserting \n",
      "``Notwithstanding section 3003 of Public Law 104-66 (31 U.S.C. 1113 \n",
      "note; 109 Stat. 734), every''.\n",
      "\n",
      "SEC. 9. AUTHORIZATIONS FOR PROGRAM PREVIOUSLY AND CURRENTLY FUNDED.\n",
      "\n",
      "    (a) Program Authorization.--The program described in subsection (c) \n",
      "is hereby authorized.\n",
      "    (b) Authorization of Appropriations.--Funds are hereby authorized \n",
      "to be appropriated for the Department of Transportation for the program \n",
      "authorized in subsection (a) in amounts as follows:\n",
      "        (1) Fiscal year 2000.--For fiscal year 2000, $10,000,000.\n",
      "        (2) Fiscal year 2001.--For fiscal year 2001, $10,000,000.\n",
      "        (3) Fiscal year 2002.--For fiscal year 2002, $7,000,000.\n",
      "    (c) Applicability.--The program referred to in subsection (a) is \n",
      "the program for which funds appropriated in title I of Public Law 106-\n",
      "69 under the heading ``FEDERAL RAILROAD ADMINISTRATION'' are available \n",
      "for obligation upon the enactment of legislation authorizing the \n",
      "program.\n",
      "\n",
      "                               Speaker of the House of Representatives.\n",
      "\n",
      "                            Vice President of the United States and    \n",
      "                                               President of the Senate.\n",
      "summary: Amends the Water Resources Development Act of 1999 to: (1) authorize appropriations for FY 1999 through 2009 for implementation of a long-term resource monitoring program with respect to the Upper Mississippi River Environmental Management Program (currently, such funding is designated for a program for the planning, construction, and evaluation of measures for fish and wildlife habitat rehabilitation and enhancement); (2) authorize the Secretary of the Army to carry out modifications to the navigation project for the Delaware River, Pennsylvania and Delaware, if such project as modified is technically sound, environmentally (currently, economically) acceptable, and economically justified; (3) subject certain previously deauthorized water resources development projects to the seven-year limitation governing project deauthorizations under the Act, with the exception of such a project for Indian River County, Florida; (4) except from a certain schedule of the non-Federal cost of the periodic nourishment of shore protection projects constructed after December 31, 1999, those projects for which a District Engineer's Report has been completed by such date;  (5) require that the project cooperation agreement for the Comite River Diversion Project for flood control include a provision that specifies that any reduction in the non-Federal share that results from certain modifications be credited toward the share of project costs to be paid by the Amite River Basin Drainage and Water Conservation District; (6) allow the Secretary to provide additional compensation to Chesapeake City, Maryland (currently, to the City of Chesapeake, Maryland) for damage to its water supply resulting from the Chesapeake and Delaware Canal Project; (7) provide for the submission of certain reports on water resources development projects by the Secretary, notwithstanding Federal reporting termination provisions; and (8) authorize and provide for an authorization of appropriations for the existing program for the safety and operations expenses of the Federal Railroad Administration, and make available for obligation funds currently appropriated for such program.\n",
      "comma-separated list of keywords: monetary<|eot_id|><|start_header_id|>assistant<|end_header_id|>Here is a modified summary that includes information related to the keywords \"monetary\":\n",
      "\n",
      "The Water Resources Development Act of 1999 is amended to authorize appropriations for various water resources development projects, including:\n",
      "\n",
      "* $20,000,000 for the provision of an alternative water supply and a project for the elimination or control of combined sewer overflows for Jackson County, Mississippi (Section 1(a))\n",
      "* $20,000,000 for the Manchester, New Hampshire project (Section 1(b))\n",
      "* $20,000,000 for the Atlanta, Georgia project (Section 1(c))\n",
      "* $20,000,000 for the Paterson, Passaic County, and Passaic Valley, New Jersey project (Section 1(d))\n",
      "* $10,000,000 for the Elizabeth and North Hudson, New Jersey project (Section 1(e))\n",
      "* $10,000,000 for the Comite River, Louisiana project (Section 6)\n",
      "* $10,000,000 for the Chesapeake City, Maryland project (Section 7)\n",
      "* $10,000,000 for the Upper Mississippi River Environmental Management Program for fiscal year 2000 (Section 2)\n",
      "* $10,000,000 for the Upper Mississippi River Environmental Management Program for fiscal year 2001 (Section 2)\n",
      "* $7,000,000 for the Upper Mississippi River Environmental Management Program for fiscal year 2002 (Section 2)\n",
      "* $10,000,000 for the Federal Railroad Administration program for fiscal year 2000 (Section 9)\n",
      "* $10,000,000 for the Federal Railroad Administration program for fiscal year 2001 (Section 9)\n",
      "* $7,000,000 for the Federal Railroad Administration program for fiscal year 2002 (Section 9)<|eot_id|>\n"
     ]
    }
   ],
   "source": [
    "inputs = tokenizer(message, return_tensors=\"pt\").to(model_device)\n",
    "outputs = model.generate(**inputs, do_sample=False)\n",
    "response = tokenizer.batch_decode(outputs)[0]\n",
    "\n",
    "print(response)"
   ]
  }
 ],
 "metadata": {
  "kernelspec": {
   "display_name": "Python 3 (ipykernel)",
   "language": "python",
   "name": "python3"
  },
  "language_info": {
   "codemirror_mode": {
    "name": "ipython",
    "version": 3
   },
   "file_extension": ".py",
   "mimetype": "text/x-python",
   "name": "python",
   "nbconvert_exporter": "python",
   "pygments_lexer": "ipython3",
   "version": "3.11.7"
  }
 },
 "nbformat": 4,
 "nbformat_minor": 5
}
